{
 "cells": [
  {
   "cell_type": "code",
   "execution_count": 1,
   "id": "46d54a01",
   "metadata": {},
   "outputs": [
    {
     "data": {
      "text/plain": [
       "True"
      ]
     },
     "execution_count": 1,
     "metadata": {},
     "output_type": "execute_result"
    }
   ],
   "source": [
    "from dotenv import load_dotenv\n",
    "import os\n",
    "load_dotenv()"
   ]
  },
  {
   "cell_type": "code",
   "execution_count": 3,
   "id": "86c1da0d",
   "metadata": {},
   "outputs": [
    {
     "name": "stdout",
     "output_type": "stream",
     "text": [
      "Cześć! Jak mogę Ci pomóc?\n"
     ]
    }
   ],
   "source": [
    "from langchain_google_genai import ChatGoogleGenerativeAI\n",
    "\n",
    "llm = ChatGoogleGenerativeAI(model=\"gemini-2.0-flash-001\", api_key=os.getenv(\"GOOGLE_API_KEY\"))\n",
    "response = llm.invoke(\"cześć\")\n",
    "print(response.content)"
   ]
  },
  {
   "cell_type": "code",
   "execution_count": null,
   "id": "6ac7eabb",
   "metadata": {},
   "outputs": [
    {
     "data": {
      "text/plain": [
       "[HumanMessage(content='I want to make a random number being multiplication of the number 8', additional_kwargs={}, response_metadata={}, id='2a79cb8d-d971-484e-a169-111532f19bb9'),\n",
       " AIMessage(content='', additional_kwargs={'function_call': {'name': 'multiply', 'arguments': '{\"input\": 8.0}'}}, response_metadata={'prompt_feedback': {'block_reason': 0, 'safety_ratings': []}, 'finish_reason': 'STOP', 'model_name': 'gemini-2.0-flash-001', 'safety_ratings': []}, id='run-bdf60800-3fb3-4593-87fb-063cb5c47172-0', tool_calls=[{'name': 'multiply', 'args': {'input': 8.0}, 'id': 'c4190340-dd84-40a9-b6d8-543abae2c5e0', 'type': 'tool_call'}], usage_metadata={'input_tokens': 63, 'output_tokens': 2, 'total_tokens': 65, 'input_token_details': {'cache_read': 0}}),\n",
       " ToolMessage(content='624', name='multiply', id='ebfb60c9-5d13-4971-a000-bedd9444b4d5', tool_call_id='c4190340-dd84-40a9-b6d8-543abae2c5e0'),\n",
       " AIMessage(content='The result of the multiplication is 624.', additional_kwargs={}, response_metadata={'prompt_feedback': {'block_reason': 0, 'safety_ratings': []}, 'finish_reason': 'STOP', 'model_name': 'gemini-2.0-flash-001', 'safety_ratings': []}, id='run-5391dc53-7270-40c9-a8a7-ae9d54b11cd0-0', usage_metadata={'input_tokens': 67, 'output_tokens': 11, 'total_tokens': 78, 'input_token_details': {'cache_read': 0}})]"
      ]
     },
     "execution_count": 32,
     "metadata": {},
     "output_type": "execute_result"
    }
   ],
   "source": [
    "from langgraph.prebuilt import create_react_agent\n",
    "from langchain_core.tools import tool\n",
    "from langgraph.checkpoint.memory import MemorySaver\n",
    "from langchain_core.messages import HumanMessage\n",
    "import random \n",
    "\n",
    "@tool\n",
    "def multiply(input: int) -> int:\n",
    "    \"\"\"tool to multiply the input by random integer\n",
    "    Args:\n",
    "        input (int): The input number to be multiplied.\n",
    "    Returns:\n",
    "        int: The result of multiplying the input by a random integer.\"\"\"\n",
    "    \n",
    "    return input * random.randint(1, 100)\n",
    "\n",
    "@tool \n",
    "def divide(input: int) -> float:\n",
    "    \"tool to divide the input by random integer\"\n",
    "    return input / random.randint(1, 100)\n",
    "\n",
    "# Define your tools\n",
    "tools = [multiply, divide]\n",
    "checkpointer = MemorySaver()\n",
    "config = {\"configurable\": {\"thread_id\": \"3\"}}\n",
    "\n",
    "# Create the agent specifying Gemini 2.0 Flash model\n",
    "agent = create_react_agent(llm, tools=tools, prompt=\"You are a helpful agent that does mathematical operations using tools. Always use the number from the prompt and don't ask for other.\", checkpointer=checkpointer)\n",
    "\n",
    "# Invoke the agent with a user message\n",
    "# response = agent.invoke({\n",
    "#     \"messages\": [{\"role\": \"user\", \"content\": \"Hello boy\"}]\n",
    "# }, config=config)\n",
    "\n",
    "response = agent.invoke(\n",
    "    {\"messages\": [HumanMessage(content=\"I want to make a random number being multiplication of the number 8\")]},\n",
    "    config=config\n",
    ")\n",
    "\n",
    "response['messages']"
   ]
  },
  {
   "cell_type": "code",
   "execution_count": 30,
   "id": "56fba889",
   "metadata": {},
   "outputs": [],
   "source": [
    "response = agent.invoke(\n",
    "    {\"messages\": [HumanMessage(content=\"7\")]},\n",
    "    config=config\n",
    ")\n"
   ]
  },
  {
   "cell_type": "code",
   "execution_count": 33,
   "id": "67f7a173",
   "metadata": {},
   "outputs": [
    {
     "data": {
      "text/plain": [
       "[HumanMessage(content='I want to make a random number being multiplication of the number 8', additional_kwargs={}, response_metadata={}, id='2a79cb8d-d971-484e-a169-111532f19bb9'),\n",
       " AIMessage(content='', additional_kwargs={'function_call': {'name': 'multiply', 'arguments': '{\"input\": 8.0}'}}, response_metadata={'prompt_feedback': {'block_reason': 0, 'safety_ratings': []}, 'finish_reason': 'STOP', 'model_name': 'gemini-2.0-flash-001', 'safety_ratings': []}, id='run-bdf60800-3fb3-4593-87fb-063cb5c47172-0', tool_calls=[{'name': 'multiply', 'args': {'input': 8.0}, 'id': 'c4190340-dd84-40a9-b6d8-543abae2c5e0', 'type': 'tool_call'}], usage_metadata={'input_tokens': 63, 'output_tokens': 2, 'total_tokens': 65, 'input_token_details': {'cache_read': 0}}),\n",
       " ToolMessage(content='624', name='multiply', id='ebfb60c9-5d13-4971-a000-bedd9444b4d5', tool_call_id='c4190340-dd84-40a9-b6d8-543abae2c5e0'),\n",
       " AIMessage(content='The result of the multiplication is 624.', additional_kwargs={}, response_metadata={'prompt_feedback': {'block_reason': 0, 'safety_ratings': []}, 'finish_reason': 'STOP', 'model_name': 'gemini-2.0-flash-001', 'safety_ratings': []}, id='run-5391dc53-7270-40c9-a8a7-ae9d54b11cd0-0', usage_metadata={'input_tokens': 67, 'output_tokens': 11, 'total_tokens': 78, 'input_token_details': {'cache_read': 0}})]"
      ]
     },
     "execution_count": 33,
     "metadata": {},
     "output_type": "execute_result"
    }
   ],
   "source": [
    "response['messages']"
   ]
  },
  {
   "cell_type": "code",
   "execution_count": null,
   "id": "ae9eb82b",
   "metadata": {},
   "outputs": [],
   "source": []
  }
 ],
 "metadata": {
  "kernelspec": {
   "display_name": "doktorat",
   "language": "python",
   "name": "python3"
  },
  "language_info": {
   "codemirror_mode": {
    "name": "ipython",
    "version": 3
   },
   "file_extension": ".py",
   "mimetype": "text/x-python",
   "name": "python",
   "nbconvert_exporter": "python",
   "pygments_lexer": "ipython3",
   "version": "3.12.1"
  }
 },
 "nbformat": 4,
 "nbformat_minor": 5
}
